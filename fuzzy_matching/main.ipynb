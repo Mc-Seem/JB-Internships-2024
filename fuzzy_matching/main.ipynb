{
 "cells": [
  {
   "cell_type": "markdown",
   "metadata": {},
   "source": [
    "### Data\n",
    "- Define initial lists of company names"
   ]
  },
  {
   "cell_type": "code",
   "execution_count": 1,
   "metadata": {},
   "outputs": [],
   "source": [
    "list_A = [\"International Business Machines\", \"Proctor & Gamble Co\", \"The Walt Disney Company\"]\n",
    "list_B = [\n",
    "    \"International Bus. Machines\", \"IBM\", \"Intl. Business Machines Corp.\",\n",
    "    \"P&G Co.\", \"Procter and Gamble Company\", \"Proctor & Gamble Corporation\",\n",
    "    \"P G Co.\", \"The Disney Co.\", \"Walt Disney Corporation\", \"Disney Inc.\",\n",
    "    \"Walt Disney\", \"IBM Corporation\", \"International Business Machines Corp\",\n",
    "    \"Disney Enterprises Inc.\", \"Procter & Gamble Inc.\"\n",
    "]"
   ]
  },
  {
   "cell_type": "markdown",
   "metadata": {},
   "source": [
    "### Similarity Metric\n",
    "- I choose Jaro-Winkler similarity since it gives more attention to beginnings of strings\n",
    "- I find it especially useful for company names, as thay often end with \"Inc.\" or \"Co.\" that rarely pose significant meaning, while beginning with the actual company name (aside from articles, which we can treat separately)"
   ]
  },
  {
   "cell_type": "code",
   "execution_count": 2,
   "metadata": {},
   "outputs": [],
   "source": [
    "from difflib import SequenceMatcher\n",
    "\n",
    "def jaro_winkler_similarity(a, b):\n",
    "    return SequenceMatcher(None, a, b).ratio()"
   ]
  },
  {
   "cell_type": "markdown",
   "metadata": {},
   "source": [
    "### Standardization Function\n",
    "- Many of common acronyms and abbreviations can be standardized for comparison."
   ]
  },
  {
   "cell_type": "code",
   "execution_count": 3,
   "metadata": {},
   "outputs": [],
   "source": [
    "import re\n",
    "\n",
    "def standardize(name):\n",
    "    name = re.sub(r\"\\bThe\\b\", \"\", name, flags=re.IGNORECASE).strip()      # Remove \"The\" at the start\n",
    "    name = re.sub(r\"&\", \"and\", name, flags=re.IGNORECASE)                 # Replace \"&\" with \"and\"\n",
    "    name = re.sub(r\"\\band\\b\", \"&\", name, flags=re.IGNORECASE)             # Replace \"and\" with \"&\" if needed\n",
    "    name = re.sub(r\"\\bCompany\\b\", \"Co\", name, flags=re.IGNORECASE)        # \"Company\" to \"Co\"\n",
    "    name = re.sub(r\"\\bCorporation\\b\", \"Corp\", name, flags=re.IGNORECASE)  # \"Corporation\" to \"Corp\"\n",
    "    \n",
    "    return name.strip()"
   ]
  },
  {
   "cell_type": "markdown",
   "metadata": {},
   "source": [
    "### Applying Standardization and Similarity"
   ]
  },
  {
   "cell_type": "code",
   "execution_count": 4,
   "metadata": {},
   "outputs": [],
   "source": [
    "results = {}\n",
    "for name_A in list_A:\n",
    "    name_A_std = standardize(name_A)\n",
    "    \n",
    "    similarity_scores = []\n",
    "    for name_B in list_B:\n",
    "        name_B_std = standardize(name_B)\n",
    "        similarity_score = jaro_winkler_similarity(name_A_std, name_B_std)\n",
    "        similarity_scores.append((name_B, similarity_score))\n",
    "        \n",
    "    top_matches = sorted(similarity_scores, key=lambda x: x[1], reverse=True)[:3]\n",
    "    results[name_A] = top_matches"
   ]
  },
  {
   "cell_type": "markdown",
   "metadata": {},
   "source": [
    "### Final Results"
   ]
  },
  {
   "cell_type": "code",
   "execution_count": 5,
   "metadata": {},
   "outputs": [
    {
     "name": "stdout",
     "output_type": "stream",
     "text": [
      "\n",
      "List A: International Business Machines\n",
      "Score: 0.925\tInternational Business Machines Corp\n",
      "Score: 0.897\tInternational Bus. Machines\n",
      "Score: 0.733\tIntl. Business Machines Corp.\n",
      "\n",
      "List A: Proctor & Gamble Co\n",
      "Score: 0.95\tProctor & Gamble Corporation\n",
      "Score: 0.947\tProcter and Gamble Company\n",
      "Score: 0.8\tProcter & Gamble Inc.\n",
      "\n",
      "List A: The Walt Disney Company\n",
      "Score: 0.933\tWalt Disney Corporation\n",
      "Score: 0.88\tWalt Disney\n",
      "Score: 0.75\tThe Disney Co.\n"
     ]
    }
   ],
   "source": [
    "for r in results.items():\n",
    "    print(f\"\\nList A: {r[0]}\")\n",
    "    for match in r[1]:\n",
    "        print(f\"Score: {round(match[1], 3)}\\t{match[0]}\")"
   ]
  }
 ],
 "metadata": {
  "kernelspec": {
   "display_name": "fuzzy_env",
   "language": "python",
   "name": "python3"
  },
  "language_info": {
   "codemirror_mode": {
    "name": "ipython",
    "version": 3
   },
   "file_extension": ".py",
   "mimetype": "text/x-python",
   "name": "python",
   "nbconvert_exporter": "python",
   "pygments_lexer": "ipython3",
   "version": "3.12.7"
  }
 },
 "nbformat": 4,
 "nbformat_minor": 2
}
