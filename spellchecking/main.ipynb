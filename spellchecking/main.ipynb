{
 "cells": [
  {
   "cell_type": "markdown",
   "id": "fb914381",
   "metadata": {},
   "source": [
    "#### Install required libs"
   ]
  },
  {
   "cell_type": "code",
   "execution_count": 1,
   "id": "077197f3",
   "metadata": {},
   "outputs": [],
   "source": [
    "# !pip install Levenshtein sklearn\n",
    "# !pip install pyspellchecker symspellpy pyenchant textblob language-tool-python"
   ]
  },
  {
   "cell_type": "code",
   "execution_count": 2,
   "id": "d11f30b1",
   "metadata": {},
   "outputs": [],
   "source": [
    "import pandas as pd\n",
    "import numpy as np"
   ]
  },
  {
   "cell_type": "markdown",
   "id": "9823fdc4",
   "metadata": {},
   "source": [
    "#### Preprocessing\n",
    "- Combining the datasets\n",
    "- Formatting\n",
    "- Add correct words to the dataset"
   ]
  },
  {
   "cell_type": "code",
   "execution_count": 3,
   "id": "5e5de440-6edc-4a0a-b35f-f92ba1f74098",
   "metadata": {},
   "outputs": [
    {
     "data": {
      "text/html": [
       "<div>\n",
       "<style scoped>\n",
       "    .dataframe tbody tr th:only-of-type {\n",
       "        vertical-align: middle;\n",
       "    }\n",
       "\n",
       "    .dataframe tbody tr th {\n",
       "        vertical-align: top;\n",
       "    }\n",
       "\n",
       "    .dataframe thead th {\n",
       "        text-align: right;\n",
       "    }\n",
       "</style>\n",
       "<table border=\"1\" class=\"dataframe\">\n",
       "  <thead>\n",
       "    <tr style=\"text-align: right;\">\n",
       "      <th></th>\n",
       "      <th>misspelled_word</th>\n",
       "      <th>correct_word</th>\n",
       "    </tr>\n",
       "  </thead>\n",
       "  <tbody>\n",
       "    <tr>\n",
       "      <th>0</th>\n",
       "      <td>Consulatoin</td>\n",
       "      <td>?</td>\n",
       "    </tr>\n",
       "    <tr>\n",
       "      <th>1</th>\n",
       "      <td>Doc_chm</td>\n",
       "      <td>?</td>\n",
       "    </tr>\n",
       "    <tr>\n",
       "      <th>2</th>\n",
       "      <td>Half-hose</td>\n",
       "      <td>?</td>\n",
       "    </tr>\n",
       "    <tr>\n",
       "      <th>3</th>\n",
       "      <td>Hurbured</td>\n",
       "      <td>?</td>\n",
       "    </tr>\n",
       "    <tr>\n",
       "      <th>4</th>\n",
       "      <td>anetes</td>\n",
       "      <td>?</td>\n",
       "    </tr>\n",
       "    <tr>\n",
       "      <th>...</th>\n",
       "      <td>...</td>\n",
       "      <td>...</td>\n",
       "    </tr>\n",
       "    <tr>\n",
       "      <th>1786</th>\n",
       "      <td>you</td>\n",
       "      <td>yours</td>\n",
       "    </tr>\n",
       "    <tr>\n",
       "      <th>1787</th>\n",
       "      <td>yourns</td>\n",
       "      <td>yours</td>\n",
       "    </tr>\n",
       "    <tr>\n",
       "      <th>1788</th>\n",
       "      <td>your_self</td>\n",
       "      <td>yourself</td>\n",
       "    </tr>\n",
       "    <tr>\n",
       "      <th>1789</th>\n",
       "      <td>your_sleve</td>\n",
       "      <td>yourself</td>\n",
       "    </tr>\n",
       "    <tr>\n",
       "      <th>1790</th>\n",
       "      <td>yourseff</td>\n",
       "      <td>yourself</td>\n",
       "    </tr>\n",
       "  </tbody>\n",
       "</table>\n",
       "<p>1791 rows × 2 columns</p>\n",
       "</div>"
      ],
      "text/plain": [
       "     misspelled_word correct_word\n",
       "0        Consulatoin            ?\n",
       "1            Doc_chm            ?\n",
       "2          Half-hose            ?\n",
       "3           Hurbured            ?\n",
       "4             anetes            ?\n",
       "...              ...          ...\n",
       "1786             you        yours\n",
       "1787          yourns        yours\n",
       "1788       your_self     yourself\n",
       "1789      your_sleve     yourself\n",
       "1790        yourseff     yourself\n",
       "\n",
       "[1791 rows x 2 columns]"
      ]
     },
     "execution_count": 3,
     "metadata": {},
     "output_type": "execute_result"
    }
   ],
   "source": [
    "from src import *\n",
    "\n",
    "parse_birkbeck('data/holbrook-missp.dat.txt', True)"
   ]
  },
  {
   "cell_type": "code",
   "execution_count": 4,
   "id": "d6f0bb50-e2d9-45eb-8887-bd38f11f252c",
   "metadata": {},
   "outputs": [
    {
     "data": {
      "text/plain": [
       "(40910, 2)"
      ]
     },
     "execution_count": 4,
     "metadata": {},
     "output_type": "execute_result"
    }
   ],
   "source": [
    "df = pd.concat([parse_birkbeck('data/aspell.dat.txt'),\n",
    "               parse_birkbeck('data/holbrook-missp.dat.txt', counted=True),\n",
    "               parse_birkbeck('data/missp.dat.txt'),\n",
    "               parse_birkbeck('data/wikipedia.dat.txt')], axis=0)\n",
    "df = df.reset_index(drop=True)\n",
    "df.shape"
   ]
  },
  {
   "cell_type": "code",
   "execution_count": 5,
   "id": "8b4db752-34cc-4862-b29e-18fd00dc81b8",
   "metadata": {},
   "outputs": [
    {
     "data": {
      "text/plain": [
       "(48652, 2)"
      ]
     },
     "execution_count": 5,
     "metadata": {},
     "output_type": "execute_result"
    }
   ],
   "source": [
    "df['misspelled_word'] = df['misspelled_word'].str.replace('_', ' ')\n",
    "df['correct_word'] = df['correct_word'].str.replace('_', ' ')\n",
    "df = df[df['correct_word'] != '?']\n",
    "df['correct_word'] = df['correct_word'].str.lower()\n",
    "t = df['correct_word'].unique()\n",
    "correct_words = pd.DataFrame((t, t)).T\n",
    "correct_words.columns = ['misspelled_word', 'correct_word']\n",
    "df = pd.concat([df, correct_words], axis=0)\n",
    "df = df.reset_index(drop=True)\n",
    "df.shape"
   ]
  },
  {
   "cell_type": "markdown",
   "id": "d386c8a7-6ece-41b2-9931-ff0b4c6a8970",
   "metadata": {},
   "source": [
    "### Spellchecker wrappers"
   ]
  },
  {
   "cell_type": "code",
   "execution_count": 6,
   "id": "30ce0ed7",
   "metadata": {},
   "outputs": [],
   "source": [
    "import language_tool_python\n",
    "from symspellpy import SymSpell, Verbosity\n",
    "from spellchecker import SpellChecker\n",
    "import enchant\n",
    "\n",
    "symspell = SymSpell(max_dictionary_edit_distance=2, prefix_length=7)\n",
    "symspell.load_dictionary(\"symspellpy/frequency_dictionary_en_82_765.txt\", term_index=0, count_index=1)\n",
    "\n",
    "tool = language_tool_python.LanguageTool('en-US')\n",
    "\n",
    "pyspell = SpellChecker()\n",
    "\n",
    "d = enchant.Dict(\"en_US\")"
   ]
  },
  {
   "cell_type": "code",
   "execution_count": 7,
   "id": "d27ab0b8",
   "metadata": {},
   "outputs": [
    {
     "name": "stdout",
     "output_type": "stream",
     "text": [
      "Original word: mispeled\n",
      "PySpellChecker: misled (Time: 0.267127 seconds)\n",
      "SymSpellPy: misled (Time: 0.000000 seconds)\n",
      "PyEnchant: misspelled (Time: 0.029000 seconds)\n",
      "TextBlob: misled (Time: 0.195351 seconds)\n",
      "LanguageTool: misled (Time: 2.562655 seconds)\n"
     ]
    }
   ],
   "source": [
    "from textblob import TextBlob\n",
    "import time\n",
    "\n",
    "\n",
    "def spell_check_pyspellchecker(misspelled_word):\n",
    "    start_time = time.time()\n",
    "    correction = pyspell.correction(misspelled_word)\n",
    "    elapsed_time = time.time() - start_time\n",
    "    return correction, elapsed_time\n",
    "\n",
    "def spell_check_symspellpy(misspelled_word):\n",
    "    start_time = time.time()\n",
    "    suggestions = symspell.lookup(misspelled_word, Verbosity.CLOSEST, max_edit_distance=2)\n",
    "    elapsed_time = time.time() - start_time\n",
    "    return suggestions[0].term if suggestions else misspelled_word, elapsed_time\n",
    "\n",
    "def spell_check_pyenchant(misspelled_word):\n",
    "    start_time = time.time()\n",
    "    if d.check(misspelled_word):\n",
    "        return misspelled_word, time.time() - start_time\n",
    "    else:\n",
    "        suggestions = d.suggest(misspelled_word)\n",
    "        elapsed_time = time.time() - start_time\n",
    "        return suggestions[0] if suggestions else misspelled_word, elapsed_time\n",
    "\n",
    "def spell_check_textblob(misspelled_word):\n",
    "    start_time = time.time()  # Start timing\n",
    "    correction = str(TextBlob(misspelled_word).correct())\n",
    "    elapsed_time = time.time() - start_time\n",
    "    return correction, elapsed_time\n",
    "\n",
    "def spell_check_languagetool(misspelled_word):\n",
    "    start_time = time.time()\n",
    "    matches = tool.check(misspelled_word)\n",
    "    corrected = language_tool_python.utils.correct(misspelled_word, matches)\n",
    "    elapsed_time = time.time() - start_time\n",
    "    return corrected, elapsed_time\n",
    "\n",
    "# Test the spell checkers\n",
    "misspelled_word = \"mispeled\"\n",
    "print(f\"Original word: {misspelled_word}\")\n",
    "pyspell_correction, pyspell_time = spell_check_pyspellchecker(misspelled_word)\n",
    "print(f\"PySpellChecker: {pyspell_correction} (Time: {pyspell_time:.6f} seconds)\")\n",
    "\n",
    "symspell_correction, symspell_time = spell_check_symspellpy(misspelled_word)\n",
    "print(f\"SymSpellPy: {symspell_correction} (Time: {symspell_time:.6f} seconds)\")\n",
    "\n",
    "pyenchant_correction, pyenchant_time = spell_check_pyenchant(misspelled_word)\n",
    "print(f\"PyEnchant: {pyenchant_correction} (Time: {pyenchant_time:.6f} seconds)\")\n",
    "\n",
    "textblob_correction, textblob_time = spell_check_textblob(misspelled_word)\n",
    "print(f\"TextBlob: {textblob_correction} (Time: {textblob_time:.6f} seconds)\")\n",
    "\n",
    "languagetool_correction, languagetool_time = spell_check_languagetool(misspelled_word)\n",
    "print(f\"LanguageTool: {languagetool_correction} (Time: {languagetool_time:.6f} seconds)\")\n"
   ]
  },
  {
   "cell_type": "markdown",
   "id": "d6ba16f8",
   "metadata": {},
   "source": [
    "## Benchmark"
   ]
  },
  {
   "cell_type": "code",
   "execution_count": 8,
   "id": "f7e238b6",
   "metadata": {},
   "outputs": [],
   "source": [
    "results = {\n",
    "    'spell_checker': [],\n",
    "    'accuracy': [],\n",
    "    'precision': [],\n",
    "    'recall': [],\n",
    "    'f1': [],\n",
    "    'avg_levenshtein': [],\n",
    "    'avg_time': []\n",
    "}\n",
    "\n",
    "def benchmark_spell_checkers(df):\n",
    "    results = []\n",
    "    spell_checkers = {\n",
    "        'PySpellChecker': spell_check_pyspellchecker,\n",
    "        'SymSpellPy': spell_check_symspellpy,\n",
    "        'PyEnchant': spell_check_pyenchant,\n",
    "        'TextBlob': spell_check_textblob,\n",
    "        'LanguageTool': spell_check_languagetool\n",
    "    }\n",
    "\n",
    "    for name, spell_checker in spell_checkers.items():\n",
    "        spell_check_results = df['misspelled_word'].apply(spell_checker)\n",
    "\n",
    "        original_word = df['misspelled_word'].reset_index(drop=True)\n",
    "        predicted_word, correction_time = zip(*spell_check_results)\n",
    "        predicted_word = pd.Series(predicted_word, name='predicted_word').reset_index(drop=True).fillna(\"bruh\")\n",
    "        correction_time = pd.Series(correction_time, name='correction_time').reset_index(drop=True).fillna(0)\n",
    "\n",
    "        correct_word = df['correct_word'].reset_index(drop=True)\n",
    "\n",
    "        metrics = {\n",
    "            'spell_checker': name,\n",
    "            'accuracy': accuracy(correct_word, predicted_word),\n",
    "            'precision': precision(correct_word, predicted_word, original_word),\n",
    "            'recall': recall(correct_word, predicted_word, original_word),\n",
    "            'avg_levenshtein': avg_levenshtein(correct_word, predicted_word),\n",
    "            'avg_time': avg_time(correction_time)\n",
    "        }\n",
    "\n",
    "        metrics['f1'] = f1(metrics['precision'], metrics['recall'])\n",
    "\n",
    "        results.append(metrics)\n",
    "        print(f\"Done evaluating {name}\")\n",
    "\n",
    "    results_df = pd.DataFrame(results)\n",
    "    return results_df\n"
   ]
  },
  {
   "cell_type": "code",
   "execution_count": 10,
   "id": "24ebb6cb",
   "metadata": {},
   "outputs": [
    {
     "name": "stdout",
     "output_type": "stream",
     "text": [
      "Done evaluating PySpellChecker\n",
      "Done evaluating SymSpellPy\n",
      "Done evaluating PyEnchant\n",
      "Done evaluating TextBlob\n",
      "Done evaluating LanguageTool\n"
     ]
    },
    {
     "data": {
      "text/html": [
       "<div>\n",
       "<style scoped>\n",
       "    .dataframe tbody tr th:only-of-type {\n",
       "        vertical-align: middle;\n",
       "    }\n",
       "\n",
       "    .dataframe tbody tr th {\n",
       "        vertical-align: top;\n",
       "    }\n",
       "\n",
       "    .dataframe thead th {\n",
       "        text-align: right;\n",
       "    }\n",
       "</style>\n",
       "<table border=\"1\" class=\"dataframe\">\n",
       "  <thead>\n",
       "    <tr style=\"text-align: right;\">\n",
       "      <th></th>\n",
       "      <th>spell_checker</th>\n",
       "      <th>accuracy</th>\n",
       "      <th>precision</th>\n",
       "      <th>recall</th>\n",
       "      <th>avg_levenshtein</th>\n",
       "      <th>avg_time</th>\n",
       "      <th>f1</th>\n",
       "    </tr>\n",
       "  </thead>\n",
       "  <tbody>\n",
       "    <tr>\n",
       "      <th>0</th>\n",
       "      <td>PySpellChecker</td>\n",
       "      <td>0.450793</td>\n",
       "      <td>0.400328</td>\n",
       "      <td>0.358359</td>\n",
       "      <td>2.456240</td>\n",
       "      <td>0.135717</td>\n",
       "      <td>0.378183</td>\n",
       "    </tr>\n",
       "    <tr>\n",
       "      <th>1</th>\n",
       "      <td>SymSpellPy</td>\n",
       "      <td>0.454041</td>\n",
       "      <td>0.474363</td>\n",
       "      <td>0.355447</td>\n",
       "      <td>1.838465</td>\n",
       "      <td>0.000058</td>\n",
       "      <td>0.406385</td>\n",
       "    </tr>\n",
       "    <tr>\n",
       "      <th>2</th>\n",
       "      <td>PyEnchant</td>\n",
       "      <td>0.429972</td>\n",
       "      <td>0.373253</td>\n",
       "      <td>0.331930</td>\n",
       "      <td>2.052495</td>\n",
       "      <td>0.024769</td>\n",
       "      <td>0.351381</td>\n",
       "    </tr>\n",
       "    <tr>\n",
       "      <th>3</th>\n",
       "      <td>TextBlob</td>\n",
       "      <td>0.411412</td>\n",
       "      <td>0.435170</td>\n",
       "      <td>0.321383</td>\n",
       "      <td>1.916735</td>\n",
       "      <td>0.086484</td>\n",
       "      <td>0.369720</td>\n",
       "    </tr>\n",
       "    <tr>\n",
       "      <th>4</th>\n",
       "      <td>LanguageTool</td>\n",
       "      <td>0.457597</td>\n",
       "      <td>0.421233</td>\n",
       "      <td>0.366827</td>\n",
       "      <td>1.901484</td>\n",
       "      <td>0.024247</td>\n",
       "      <td>0.392152</td>\n",
       "    </tr>\n",
       "  </tbody>\n",
       "</table>\n",
       "</div>"
      ],
      "text/plain": [
       "    spell_checker  accuracy  precision    recall  avg_levenshtein  avg_time  \\\n",
       "0  PySpellChecker  0.450793   0.400328  0.358359         2.456240  0.135717   \n",
       "1      SymSpellPy  0.454041   0.474363  0.355447         1.838465  0.000058   \n",
       "2       PyEnchant  0.429972   0.373253  0.331930         2.052495  0.024769   \n",
       "3        TextBlob  0.411412   0.435170  0.321383         1.916735  0.086484   \n",
       "4    LanguageTool  0.457597   0.421233  0.366827         1.901484  0.024247   \n",
       "\n",
       "         f1  \n",
       "0  0.378183  \n",
       "1  0.406385  \n",
       "2  0.351381  \n",
       "3  0.369720  \n",
       "4  0.392152  "
      ]
     },
     "execution_count": 10,
     "metadata": {},
     "output_type": "execute_result"
    }
   ],
   "source": [
    "benchmarks = benchmark_spell_checkers(df)\n",
    "benchmarks"
   ]
  },
  {
   "cell_type": "code",
   "execution_count": 11,
   "id": "49d4c6d7",
   "metadata": {},
   "outputs": [],
   "source": [
    "benchmarks.to_csv('results.csv', index=False)"
   ]
  }
 ],
 "metadata": {
  "kernelspec": {
   "display_name": "spellcheck_env",
   "language": "python",
   "name": "python3"
  },
  "language_info": {
   "codemirror_mode": {
    "name": "ipython",
    "version": 3
   },
   "file_extension": ".py",
   "mimetype": "text/x-python",
   "name": "python",
   "nbconvert_exporter": "python",
   "pygments_lexer": "ipython3",
   "version": "3.12.7"
  }
 },
 "nbformat": 4,
 "nbformat_minor": 5
}
